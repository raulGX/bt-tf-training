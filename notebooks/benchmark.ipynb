{
 "cells": [
  {
   "cell_type": "code",
   "execution_count": 5,
   "metadata": {},
   "outputs": [
    {
     "name": "stdout",
     "output_type": "stream",
     "text": [
      "0.15990185737609863\n",
      "3.9392192363739014\n",
      "40\n"
     ]
    }
   ],
   "source": [
    "from os import listdir, rename, getcwd\n",
    "from os.path import isfile, join\n",
    "import numpy as np\n",
    "import tensorflow as tf\n",
    "import time\n",
    "def read_tensor_from_image_file(file_name,\n",
    "                                input_height=224,\n",
    "                                input_width=224,\n",
    "                                input_mean=0,\n",
    "                                input_std=255):\n",
    "    input_name = \"file_reader\"\n",
    "    output_name = \"normalized\"\n",
    "    file_reader = tf.read_file(file_name, input_name)\n",
    "    if file_name.endswith(\".png\"):\n",
    "        image_reader = tf.image.decode_png(\n",
    "            file_reader, channels=3, name=\"png_reader\")\n",
    "    elif file_name.endswith(\".gif\"):\n",
    "        image_reader = tf.squeeze(\n",
    "            tf.image.decode_gif(file_reader, name=\"gif_reader\"))\n",
    "    elif file_name.endswith(\".bmp\"):\n",
    "        image_reader = tf.image.decode_bmp(file_reader, name=\"bmp_reader\")\n",
    "    else:\n",
    "        image_reader = tf.image.decode_jpeg(\n",
    "            file_reader, channels=3, name=\"jpeg_reader\")\n",
    "    float_caster = tf.cast(image_reader, tf.float32)\n",
    "    dims_expander = tf.expand_dims(float_caster, 0)\n",
    "    resized = tf.image.resize_bilinear(dims_expander, [input_height, input_width])\n",
    "    normalized = tf.divide(tf.subtract(resized, [input_mean]), [input_std])\n",
    "    sess = tf.Session()\n",
    "    result = sess.run(normalized)\n",
    "\n",
    "    return result\n",
    "if __name__ == \"__main__\":\n",
    "    currentDir = getcwd()\n",
    "    imagesDir = currentDir + \"/images\"\n",
    "    modelFile = join(currentDir, \"graph_optimized.pb\")\n",
    "    input_layer = \"input\"\n",
    "    output_layer = \"final_result\"\n",
    "\n",
    "    images = [join(imagesDir, f) for f in listdir(imagesDir) if isfile(join(imagesDir, f))] \n",
    "    graph = tf.Graph()\n",
    "    graph_def = tf.GraphDef()\n",
    "\n",
    "    with open(modelFile, \"rb\") as f:\n",
    "        graph_def.ParseFromString(f.read())\n",
    "    with graph.as_default():\n",
    "        tf.import_graph_def(graph_def)\n",
    "\n",
    "\n",
    "    input_name = \"import/\" + input_layer\n",
    "    output_name = \"import/\" + output_layer\n",
    "    input_operation = graph.get_operation_by_name(input_name)\n",
    "    output_operation = graph.get_operation_by_name(output_name)\n",
    "    with tf.Session(graph=graph) as sess:\n",
    "        start = time.time()\n",
    "        imageTensor = read_tensor_from_image_file(images[0])\n",
    "        results = sess.run(output_operation.outputs[0],\n",
    "                        {input_operation.outputs[0]: imageTensor})\n",
    "        end=time.time()\n",
    "        print(end-start)\n",
    "    with tf.Session(graph=graph) as sess:\n",
    "        start = time.time()\n",
    "        for image in images:\n",
    "            imageTensor = read_tensor_from_image_file(image)\n",
    "            results = sess.run(output_operation.outputs[0],\n",
    "                            {input_operation.outputs[0]: imageTensor})\n",
    "        end=time.time()\n",
    "        print(end-start)\n",
    "    print(len(images))"
   ]
  },
  {
   "cell_type": "code",
   "execution_count": null,
   "metadata": {},
   "outputs": [],
   "source": []
  }
 ],
 "metadata": {
  "kernelspec": {
   "display_name": "Python 3",
   "language": "python",
   "name": "python3"
  },
  "language_info": {
   "codemirror_mode": {
    "name": "ipython",
    "version": 3
   },
   "file_extension": ".py",
   "mimetype": "text/x-python",
   "name": "python",
   "nbconvert_exporter": "python",
   "pygments_lexer": "ipython3",
   "version": "3.5.2"
  }
 },
 "nbformat": 4,
 "nbformat_minor": 2
}
